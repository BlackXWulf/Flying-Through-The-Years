{
 "cells": [
  {
   "attachments": {
    "4079af88-5a33-44c1-a8ab-3d0083f5bb3b.jpg": {
     "image/jpeg": "[encoded data removed]"
    }
   },
   "cell_type": "markdown",
   "id": "a9497e04-dcd1-48cc-b8a5-bed8852a4991",
   "metadata": {},
   "source": [
    "![Phase1ProjectDSAviation.jpg](attachment:4079af88-5a33-44c1-a8ab-3d0083f5bb3b.jpg)"
   ]
  },
  {
   "cell_type": "markdown",
   "id": "5923ec36-ec70-413a-bb3b-4cf92d3f2c6b",
   "metadata": {},
   "source": [
    "# Flying Through The Years"
   ]
  },
  {
   "cell_type": "markdown",
   "id": "f044c6f0-70ea-4db3-b309-b236efb1bf8d",
   "metadata": {},
   "source": [
    "# Overview"
   ]
  },
  {
   "cell_type": "markdown",
   "id": "1bbfc506-5cd8-4f40-bfd9-eb6a05df73ea",
   "metadata": {},
   "source": [
    "This Project Analyzes aviation data accidents from 1962-2023 about civil aviation accidents and selected incidents in the United States and international waters. The project will focus more on airplane accidents through out the years "
   ]
  },
  {
   "cell_type": "markdown",
   "id": "b9bb6284-56f3-48cf-8ec3-21d6b84331f2",
   "metadata": {},
   "source": [
    "# Business Understanding"
   ]
  },
  {
   "cell_type": "markdown",
   "id": "9407fd75-b543-42cb-9acd-c082c753f2d4",
   "metadata": {},
   "source": [
    "Aviation companies in America can reduce accidents and incidents through improving there airplane engines or adding additionally engines. Doing so will reduce incidents in the air. Using Aviation data between 1962-2023, I'll describe patterns of accidents and incidents through the years."
   ]
  },
  {
   "cell_type": "markdown",
   "id": "a224caea-8ba9-46f9-ab94-a64cc2d2c75f",
   "metadata": {},
   "source": [
    "# Data Understanding"
   ]
  },
  {
   "cell_type": "markdown",
   "id": "44e6d3f8-e436-4af9-84ab-87474a26db33",
   "metadata": {},
   "source": []
  },
  {
   "cell_type": "markdown",
   "id": "8889de3c-0824-43c6-a3a7-4410c9c9bd58",
   "metadata": {},
   "source": [
    "## Data Preperation"
   ]
  },
  {
   "cell_type": "markdown",
   "id": "47366894-c2bc-4230-9556-2fc12e988c23",
   "metadata": {},
   "source": []
  },
  {
   "cell_type": "markdown",
   "id": "64081131-3d67-4ea6-8d94-2f4a932e6320",
   "metadata": {},
   "source": [
    "# Exploratory Data Analysis"
   ]
  },
  {
   "cell_type": "markdown",
   "id": "e3c142f1-5286-4926-972c-d3e6157f194d",
   "metadata": {},
   "source": []
  },
  {
   "cell_type": "markdown",
   "id": "8666a4e3-4e44-496a-bcb6-7b1707a1f7fe",
   "metadata": {},
   "source": [
    "# Conclusions"
   ]
  },
  {
   "cell_type": "markdown",
   "id": "1cfd5f15-fe9d-47db-a99e-7abda3c5ce3e",
   "metadata": {},
   "source": []
  },
  {
   "cell_type": "markdown",
   "id": "06b7d3b8-f036-4c94-beea-30639176b09c",
   "metadata": {},
   "source": [
    "## Limitations"
   ]
  },
  {
   "cell_type": "markdown",
   "id": "b77f7bd5-ba43-4a9f-bba3-54608786a12f",
   "metadata": {},
   "source": []
  },
  {
   "cell_type": "markdown",
   "id": "bddf7dcb-6ac2-4fd5-a105-e0eba5ddb6e2",
   "metadata": {},
   "source": [
    "## Recommendations"
   ]
  },
  {
   "cell_type": "markdown",
   "id": "972cd293-5599-49a3-9dcf-e1f001496462",
   "metadata": {},
   "source": []
  },
  {
   "cell_type": "markdown",
   "id": "b371c1b3-8995-49a3-880e-25d9de72e9e9",
   "metadata": {},
   "source": [
    "## Next Steps"
   ]
  },
  {
   "cell_type": "markdown",
   "id": "f04ba9fe-87d6-48d4-94d0-7b9b307d90db",
   "metadata": {},
   "source": []
  }
 ],
 "metadata": {
  "kernelspec": {
   "display_name": "Python 3 (ipykernel)",
   "language": "python",
   "name": "python3"
  },
  "language_info": {
   "codemirror_mode": {
    "name": "ipython",
    "version": 3
   },
   "file_extension": ".py",
   "mimetype": "text/x-python",
   "name": "python",
   "nbconvert_exporter": "python",
   "pygments_lexer": "ipython3",
   "version": "3.12.2"
  }
 },
 "nbformat": 4,
 "nbformat_minor": 5
}
