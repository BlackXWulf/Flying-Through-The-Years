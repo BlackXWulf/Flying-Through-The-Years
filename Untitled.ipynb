{
 "cells": [
  {
   "cell_type": "markdown",
   "id": "b9bb6284-56f3-48cf-8ec3-21d6b84331f2",
   "metadata": {},
   "source": [
    "# Business Understanding"
   ]
  },
  {
   "cell_type": "markdown",
   "id": "f044c6f0-70ea-4db3-b309-b236efb1bf8d",
   "metadata": {},
   "source": []
  },
  {
   "cell_type": "markdown",
   "id": "a224caea-8ba9-46f9-ab94-a64cc2d2c75f",
   "metadata": {},
   "source": [
    "# Data Understanding"
   ]
  },
  {
   "cell_type": "markdown",
   "id": "1bbfc506-5cd8-4f40-bfd9-eb6a05df73ea",
   "metadata": {},
   "source": []
  },
  {
   "cell_type": "markdown",
   "id": "8889de3c-0824-43c6-a3a7-4410c9c9bd58",
   "metadata": {},
   "source": [
    "## Data Preperation"
   ]
  },
  {
   "cell_type": "markdown",
   "id": "44e6d3f8-e436-4af9-84ab-87474a26db33",
   "metadata": {},
   "source": []
  },
  {
   "cell_type": "markdown",
   "id": "64081131-3d67-4ea6-8d94-2f4a932e6320",
   "metadata": {},
   "source": [
    "# Exploratory Data Analysis"
   ]
  },
  {
   "cell_type": "markdown",
   "id": "47366894-c2bc-4230-9556-2fc12e988c23",
   "metadata": {},
   "source": []
  },
  {
   "cell_type": "markdown",
   "id": "8666a4e3-4e44-496a-bcb6-7b1707a1f7fe",
   "metadata": {},
   "source": [
    "# Conclusions"
   ]
  },
  {
   "cell_type": "markdown",
   "id": "e3c142f1-5286-4926-972c-d3e6157f194d",
   "metadata": {},
   "source": []
  },
  {
   "cell_type": "markdown",
   "id": "06b7d3b8-f036-4c94-beea-30639176b09c",
   "metadata": {},
   "source": [
    "## Limitations"
   ]
  },
  {
   "cell_type": "markdown",
   "id": "1cfd5f15-fe9d-47db-a99e-7abda3c5ce3e",
   "metadata": {},
   "source": []
  },
  {
   "cell_type": "markdown",
   "id": "bddf7dcb-6ac2-4fd5-a105-e0eba5ddb6e2",
   "metadata": {},
   "source": [
    "## Recommendations"
   ]
  },
  {
   "cell_type": "markdown",
   "id": "b77f7bd5-ba43-4a9f-bba3-54608786a12f",
   "metadata": {},
   "source": []
  },
  {
   "cell_type": "markdown",
   "id": "b371c1b3-8995-49a3-880e-25d9de72e9e9",
   "metadata": {},
   "source": [
    "## Next Steps"
   ]
  },
  {
   "cell_type": "code",
   "execution_count": null,
   "id": "feebbcfc-cf5a-4aab-b8ff-a4f4dd021fbd",
   "metadata": {},
   "outputs": [],
   "source": []
  },
  {
   "cell_type": "code",
   "execution_count": null,
   "id": "e064ee21-69c1-497c-a53b-120f3b77e160",
   "metadata": {},
   "outputs": [],
   "source": []
  },
  {
   "cell_type": "code",
   "execution_count": null,
   "id": "4d7da61f-906f-4fe4-ae7f-0689e1a2f006",
   "metadata": {},
   "outputs": [],
   "source": []
  }
 ],
 "metadata": {
  "kernelspec": {
   "display_name": "Python 3 (ipykernel)",
   "language": "python",
   "name": "python3"
  },
  "language_info": {
   "codemirror_mode": {
    "name": "ipython",
    "version": 3
   },
   "file_extension": ".py",
   "mimetype": "text/x-python",
   "name": "python",
   "nbconvert_exporter": "python",
   "pygments_lexer": "ipython3",
   "version": "3.12.2"
  }
 },
 "nbformat": 4,
 "nbformat_minor": 5
}
